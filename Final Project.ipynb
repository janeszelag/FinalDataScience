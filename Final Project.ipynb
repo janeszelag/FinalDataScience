{
 "cells": [
  {
   "cell_type": "markdown",
   "metadata": {},
   "source": [
    "# Investigating Student Performance in Exams\n",
    "## Final Project - Brain Station Data Science Certificate \n",
    "Katherine Szelag\n",
    "\n",
    "Data set consists of the marks secured by the students in various subjects. Analysis will seek to understand the influence of various factors (including gender and parental level of education) on student performance."
   ]
  },
  {
   "cell_type": "code",
   "execution_count": null,
   "metadata": {},
   "outputs": [],
   "source": [
    "import pandas as pd\n",
    "import numpy as np\n",
    "import seaborn as sns\n",
    "import matplotlib.pyplot as plt\n",
    "from scipy import stats\n",
    "%matplotlib inline\n"
   ]
  },
  {
   "cell_type": "code",
   "execution_count": null,
   "metadata": {},
   "outputs": [],
   "source": [
    "examData = pd.read_csv(\"data/StudentsPerformance.csv\")"
   ]
  },
  {
   "cell_type": "markdown",
   "metadata": {},
   "source": [
    "## Initial exploration "
   ]
  },
  {
   "cell_type": "code",
   "execution_count": null,
   "metadata": {
    "scrolled": true
   },
   "outputs": [],
   "source": [
    "print(examData.shape)"
   ]
  },
  {
   "cell_type": "code",
   "execution_count": null,
   "metadata": {},
   "outputs": [],
   "source": [
    "examData.head()\n",
    "# Data set is already indexed"
   ]
  },
  {
   "cell_type": "code",
   "execution_count": null,
   "metadata": {},
   "outputs": [],
   "source": [
    "examData.tail()"
   ]
  },
  {
   "cell_type": "code",
   "execution_count": null,
   "metadata": {
    "scrolled": true
   },
   "outputs": [],
   "source": [
    "# Random sampling of the data\n",
    "examData.sample(5)"
   ]
  },
  {
   "cell_type": "code",
   "execution_count": null,
   "metadata": {},
   "outputs": [],
   "source": [
    "# Shows the data types in the data set\n",
    "examData.dtypes"
   ]
  },
  {
   "cell_type": "code",
   "execution_count": null,
   "metadata": {
    "scrolled": true
   },
   "outputs": [],
   "source": [
    "# Analysis of numerical values\n",
    "examData.describe()"
   ]
  },
  {
   "cell_type": "code",
   "execution_count": null,
   "metadata": {
    "scrolled": true
   },
   "outputs": [],
   "source": [
    "# Describe the non number data also\n",
    "examData.describe(include='all')"
   ]
  },
  {
   "cell_type": "markdown",
   "metadata": {},
   "source": [
    "## Prepping Data"
   ]
  },
  {
   "cell_type": "code",
   "execution_count": null,
   "metadata": {},
   "outputs": [],
   "source": [
    "# Checking if any values are null\n",
    "examData.isnull().values.any()"
   ]
  },
  {
   "cell_type": "code",
   "execution_count": null,
   "metadata": {},
   "outputs": [],
   "source": [
    "# Checking if any values are null/ counts the number of null values\n",
    "examData.isnull().sum()"
   ]
  },
  {
   "cell_type": "markdown",
   "metadata": {},
   "source": [
    "### Renaming the columns in place"
   ]
  },
  {
   "cell_type": "code",
   "execution_count": null,
   "metadata": {},
   "outputs": [],
   "source": [
    "examData.rename(columns=({'gender':'Gender','race/ethnicity':'Race'\n",
    "                     ,'parental level of education':'Parental_Level_of_Education'\n",
    "                     ,'lunch':'Lunch','test preparation course':'Test_Preparation_Course'\n",
    "                      ,'math score':'Math_Score','reading score':'Reading_Score'\n",
    "                     ,'writing score':'Writing_Score'}),inplace=True)"
   ]
  },
  {
   "cell_type": "code",
   "execution_count": null,
   "metadata": {},
   "outputs": [],
   "source": [
    "# Renaming worked\n",
    "for col in examData.columns:\n",
    "    print(col)"
   ]
  },
  {
   "cell_type": "markdown",
   "metadata": {},
   "source": [
    "## Transforming the Dataframe"
   ]
  },
  {
   "cell_type": "markdown",
   "metadata": {},
   "source": [
    "### Finding and appending an \"Average Overall Score\""
   ]
  },
  {
   "cell_type": "code",
   "execution_count": null,
   "metadata": {
    "scrolled": true
   },
   "outputs": [],
   "source": [
    "examData['Average_Overall_Score'] = examData[['Math_Score', 'Reading_Score', 'Writing_Score']].mean(axis=1)\n",
    "examData.head()"
   ]
  },
  {
   "cell_type": "code",
   "execution_count": null,
   "metadata": {
    "scrolled": false
   },
   "outputs": [],
   "source": [
    "examData.describe()"
   ]
  },
  {
   "cell_type": "markdown",
   "metadata": {},
   "source": [
    "### Appending a rank column (as a percentile)"
   ]
  },
  {
   "cell_type": "code",
   "execution_count": null,
   "metadata": {
    "scrolled": true
   },
   "outputs": [],
   "source": [
    "examData['Percentile_%'] = examData['Average_Overall_Score'].rank(pct=True).apply(lambda x: x * 100)\n",
    "examData.head()"
   ]
  },
  {
   "cell_type": "markdown",
   "metadata": {},
   "source": [
    "## General Exploration"
   ]
  },
  {
   "cell_type": "code",
   "execution_count": null,
   "metadata": {
    "scrolled": false
   },
   "outputs": [],
   "source": [
    "plt.figure(figsize=(10, 7))\n",
    "sns.distplot(examData['Math_Score'], color = 'green')\n",
    "plt.title('Math Score Distribution', fontsize=18)\n",
    "plt.show()"
   ]
  },
  {
   "cell_type": "code",
   "execution_count": null,
   "metadata": {},
   "outputs": [],
   "source": [
    "stats.shapiro(examData['Math_Score'])"
   ]
  },
  {
   "cell_type": "markdown",
   "metadata": {},
   "source": [
    "Reject the null hypothesis that Math Score is normally distributed. "
   ]
  },
  {
   "cell_type": "code",
   "execution_count": null,
   "metadata": {},
   "outputs": [],
   "source": [
    "np.where(abs(stats.zscore(examData['Math_Score']))>3)"
   ]
  },
  {
   "cell_type": "code",
   "execution_count": null,
   "metadata": {
    "scrolled": true
   },
   "outputs": [],
   "source": [
    "examData['Math_Score'][17]"
   ]
  },
  {
   "cell_type": "code",
   "execution_count": null,
   "metadata": {
    "scrolled": true
   },
   "outputs": [],
   "source": [
    "examData['Math_Score'][59]"
   ]
  },
  {
   "cell_type": "code",
   "execution_count": null,
   "metadata": {
    "scrolled": true
   },
   "outputs": [],
   "source": [
    "examData['Math_Score'][787]"
   ]
  },
  {
   "cell_type": "code",
   "execution_count": null,
   "metadata": {},
   "outputs": [],
   "source": [
    "examData['Math_Score'][980]"
   ]
  },
  {
   "cell_type": "code",
   "execution_count": null,
   "metadata": {
    "scrolled": false
   },
   "outputs": [],
   "source": [
    "plt.figure(figsize=(10, 7))\n",
    "sns.distplot(examData['Writing_Score'], color = 'blue')\n",
    "plt.title('Writing Score Distribution', fontsize=18)\n",
    "plt.show()"
   ]
  },
  {
   "cell_type": "code",
   "execution_count": null,
   "metadata": {},
   "outputs": [],
   "source": [
    "stats.shapiro(examData['Writing_Score'])"
   ]
  },
  {
   "cell_type": "code",
   "execution_count": null,
   "metadata": {
    "scrolled": false
   },
   "outputs": [],
   "source": [
    "plt.figure(figsize=(10, 7))\n",
    "sns.distplot(examData['Reading_Score'], color = 'pink')\n",
    "plt.title('Reading Score Distribution', fontsize=18)\n",
    "plt.show()"
   ]
  },
  {
   "cell_type": "code",
   "execution_count": null,
   "metadata": {},
   "outputs": [],
   "source": [
    "stats.shapiro(examData['Reading_Score'])"
   ]
  },
  {
   "cell_type": "code",
   "execution_count": null,
   "metadata": {},
   "outputs": [],
   "source": [
    "plt.figure(figsize=(10, 7))\n",
    "sns.distplot(examData['Average_Overall_Score'], color = 'purple')\n",
    "plt.title('Average Overall Score Distribution', fontsize=18)\n",
    "plt.show()"
   ]
  },
  {
   "cell_type": "code",
   "execution_count": null,
   "metadata": {},
   "outputs": [],
   "source": [
    "stats.shapiro(examData['Average_Overall_Score'])"
   ]
  },
  {
   "cell_type": "markdown",
   "metadata": {},
   "source": [
    "## Gender"
   ]
  },
  {
   "cell_type": "code",
   "execution_count": null,
   "metadata": {
    "scrolled": true
   },
   "outputs": [],
   "source": [
    "examData['Gender'].value_counts()"
   ]
  },
  {
   "cell_type": "code",
   "execution_count": null,
   "metadata": {
    "scrolled": false
   },
   "outputs": [],
   "source": [
    "sns.catplot(data=examData, x='Gender', kind = 'count', order=['female', 'male'], palette=\"Set2\")\n",
    "plt.title('Show of Gender', fontsize=18)\n",
    "plt.ylabel('Frequency', fontsize=14)\n",
    "plt.xlabel('Gender', fontsize=14)\n",
    "plt.tick_params(labelsize=13)\n",
    "plt.show()"
   ]
  },
  {
   "cell_type": "markdown",
   "metadata": {},
   "source": [
    "### Scores by Gender"
   ]
  },
  {
   "cell_type": "code",
   "execution_count": null,
   "metadata": {
    "scrolled": true
   },
   "outputs": [],
   "source": [
    "examData.groupby('Gender')[['Average_Overall_Score', 'Math_Score', 'Reading_Score', 'Writing_Score']].mean()"
   ]
  },
  {
   "cell_type": "markdown",
   "metadata": {},
   "source": [
    " ### Math Score"
   ]
  },
  {
   "cell_type": "code",
   "execution_count": null,
   "metadata": {},
   "outputs": [],
   "source": [
    "stats.ttest_ind(examData.loc[examData['Gender']==\"male\", 'Math_Score'], examData.loc[examData['Gender']==\"female\", 'Math_Score'] )"
   ]
  },
  {
   "cell_type": "markdown",
   "metadata": {},
   "source": [
    "The p-value is well below .001, so we reject the null hypothesis and conclude that the difference in the Math Score across Genders is statistically significant."
   ]
  },
  {
   "cell_type": "code",
   "execution_count": null,
   "metadata": {
    "scrolled": false
   },
   "outputs": [],
   "source": [
    "sns.catplot(data=examData, x='Gender', y = \"Math_Score\", kind = 'bar', order=['female', 'male'], palette=\"Set2\")\n",
    "plt.ylabel(\"Math Score\", fontsize=14)\n",
    "plt.xlabel(\"Gender\", fontsize=14)\n",
    "plt.tick_params(labelsize=13)\n",
    "plt.title('Gender & Math Score', fontsize=18)\n",
    "plt.show()"
   ]
  },
  {
   "cell_type": "markdown",
   "metadata": {},
   "source": [
    "### Writing Score"
   ]
  },
  {
   "cell_type": "code",
   "execution_count": null,
   "metadata": {},
   "outputs": [],
   "source": [
    "stats.ttest_ind(examData.loc[examData['Gender']==\"male\", 'Writing_Score'], examData.loc[examData['Gender']==\"female\", 'Writing_Score'] )"
   ]
  },
  {
   "cell_type": "code",
   "execution_count": null,
   "metadata": {
    "scrolled": false
   },
   "outputs": [],
   "source": [
    "sns.catplot(data=examData, x='Gender', y = \"Writing_Score\", kind = 'bar', order=['female', 'male'], palette=\"Set2\")\n",
    "plt.ylabel(\"Writing Score\", fontsize=14)\n",
    "plt.xlabel(\"Gender\", fontsize=14)\n",
    "plt.tick_params(labelsize=13)\n",
    "plt.title('Gender & Writing Score', fontsize=18)\n",
    "plt.show()"
   ]
  },
  {
   "cell_type": "markdown",
   "metadata": {},
   "source": [
    "### Reading Score"
   ]
  },
  {
   "cell_type": "code",
   "execution_count": null,
   "metadata": {},
   "outputs": [],
   "source": [
    "stats.ttest_ind(examData.loc[examData['Gender']==\"male\", 'Reading_Score'], examData.loc[examData['Gender']==\"female\", 'Reading_Score'] )"
   ]
  },
  {
   "cell_type": "code",
   "execution_count": null,
   "metadata": {
    "scrolled": false
   },
   "outputs": [],
   "source": [
    "sns.catplot(data=examData, x='Gender', y = \"Reading_Score\", kind = 'bar', order=['female', 'male'], palette=\"Set2\")\n",
    "plt.ylabel(\"Reading Score\", fontsize=14)\n",
    "plt.xlabel(\"Gender\", fontsize=14)\n",
    "plt.tick_params(labelsize=13)\n",
    "plt.title('Gender & Reading Score', fontsize=18)\n",
    "plt.show()"
   ]
  },
  {
   "cell_type": "markdown",
   "metadata": {},
   "source": [
    "### Average Overall Score by Gender"
   ]
  },
  {
   "cell_type": "code",
   "execution_count": null,
   "metadata": {
    "scrolled": false
   },
   "outputs": [],
   "source": [
    "examData.groupby('Gender')['Average_Overall_Score'].mean()"
   ]
  },
  {
   "cell_type": "code",
   "execution_count": null,
   "metadata": {
    "scrolled": true
   },
   "outputs": [],
   "source": [
    "stats.ttest_ind(examData.loc[examData['Gender']==\"male\", 'Average_Overall_Score'], examData.loc[examData['Gender']==\"female\", 'Average_Overall_Score'] )"
   ]
  },
  {
   "cell_type": "code",
   "execution_count": null,
   "metadata": {
    "scrolled": false
   },
   "outputs": [],
   "source": [
    "sns.catplot(data=examData, x='Gender', y = \"Average_Overall_Score\", kind = 'bar', order=['female', 'male'], palette=\"Set2\")\n",
    "plt.ylabel(\"Average Overall Score\", fontsize=14)\n",
    "plt.xlabel(\"Gender\", fontsize=14)\n",
    "plt.tick_params(labelsize=13)\n",
    "plt.title('Gender & Average Overall Score', fontsize=18)\n",
    "plt.show()"
   ]
  },
  {
   "cell_type": "markdown",
   "metadata": {},
   "source": [
    "### High-achievers by Gender "
   ]
  },
  {
   "cell_type": "code",
   "execution_count": null,
   "metadata": {},
   "outputs": [],
   "source": [
    "highAcheiverFemales = examData.loc[(examData['Average_Overall_Score'] >= 90) & (examData[\"Gender\"] == 'female')]"
   ]
  },
  {
   "cell_type": "code",
   "execution_count": null,
   "metadata": {
    "scrolled": true
   },
   "outputs": [],
   "source": [
    "totalFemaleHighAcheiver = highAcheiverFemales.agg(len)\n",
    "totalFemaleHighAcheiver"
   ]
  },
  {
   "cell_type": "code",
   "execution_count": null,
   "metadata": {},
   "outputs": [],
   "source": [
    "highAcheiverMales = examData.loc[(examData['Average_Overall_Score'] >= 90) & (examData[\"Gender\"] == 'male')]"
   ]
  },
  {
   "cell_type": "code",
   "execution_count": null,
   "metadata": {},
   "outputs": [],
   "source": [
    "totalMaleHighAcheiver = highAcheiverMales.agg(len)\n",
    "totalMaleHighAcheiver"
   ]
  },
  {
   "cell_type": "code",
   "execution_count": null,
   "metadata": {},
   "outputs": [],
   "source": [
    "examData['Gender'].value_counts()"
   ]
  },
  {
   "cell_type": "code",
   "execution_count": null,
   "metadata": {},
   "outputs": [],
   "source": [
    "# normalizing to total number of females\n",
    "percent_of_female_high_acheiver = (38 / 518) * 100\n",
    "percent_of_female_high_acheiver"
   ]
  },
  {
   "cell_type": "code",
   "execution_count": null,
   "metadata": {},
   "outputs": [],
   "source": [
    "# normalizing to total number of males\n",
    "percent_of_male_high_acheiver = (14 / 482) * 100\n",
    "percent_of_male_high_acheiver"
   ]
  },
  {
   "cell_type": "markdown",
   "metadata": {},
   "source": [
    "#### 7.3% of females are high-achievers as compared to 2.9% of males."
   ]
  },
  {
   "cell_type": "code",
   "execution_count": null,
   "metadata": {},
   "outputs": [],
   "source": [
    "highAchievers = examData['Average_Overall_Score'] >= 90"
   ]
  },
  {
   "cell_type": "code",
   "execution_count": null,
   "metadata": {},
   "outputs": [],
   "source": [
    "examData[highAchievers].groupby('Gender')['Average_Overall_Score'].mean()"
   ]
  },
  {
   "cell_type": "markdown",
   "metadata": {},
   "source": [
    "## Race/Ethinicity"
   ]
  },
  {
   "cell_type": "code",
   "execution_count": null,
   "metadata": {},
   "outputs": [],
   "source": [
    "# Returns the unique values present in the Race/Ethnicity column\n",
    "examData['Race'].unique()"
   ]
  },
  {
   "cell_type": "code",
   "execution_count": null,
   "metadata": {
    "scrolled": false
   },
   "outputs": [],
   "source": [
    "# Returns the counts of Race/Ethinicty values\n",
    "examData['Race'].value_counts(dropna=False, normalize=True)"
   ]
  },
  {
   "cell_type": "code",
   "execution_count": null,
   "metadata": {},
   "outputs": [],
   "source": [
    "sns.catplot(data=examData, x='Race', kind = 'count', order=['group A', 'group B', 'group C', 'group D', 'group E'], palette=\"Set2\")\n",
    "plt.xlabel('Race/Ethnicity', fontsize=14)\n",
    "plt.ylabel('Frequency', fontsize=14)\n",
    "plt.title('Show of Race/Ethnicity', fontsize=18)\n",
    "plt.tick_params(labelsize=13)\n",
    "plt.show()"
   ]
  },
  {
   "cell_type": "markdown",
   "metadata": {},
   "source": [
    "### Mean Math Score by Race/Ethnicity"
   ]
  },
  {
   "cell_type": "code",
   "execution_count": null,
   "metadata": {
    "scrolled": true
   },
   "outputs": [],
   "source": [
    "examData.groupby('Race')[['Average_Overall_Score', 'Math_Score', 'Reading_Score', 'Writing_Score']].mean()"
   ]
  },
  {
   "cell_type": "code",
   "execution_count": null,
   "metadata": {},
   "outputs": [],
   "source": [
    "stats.f_oneway(examData.loc[examData['Race']==\"group A\", 'Math_Score'], examData.loc[examData['Race']==\"group B\", 'Math_Score'],  examData.loc[examData['Race']==\"group C\", 'Math_Score'],  examData.loc[examData['Race']==\"group D\", 'Math_Score'],  examData.loc[examData['Race']==\"group E\", 'Math_Score'])"
   ]
  },
  {
   "cell_type": "code",
   "execution_count": null,
   "metadata": {},
   "outputs": [],
   "source": [
    "sns.catplot(data=examData, x='Race', y='Math_Score', kind = 'bar', order=['group A', 'group B', 'group C', 'group D', 'group E'], palette=\"Set2\")\n",
    "plt.xticks(rotation=45)\n",
    "plt.ylabel(\"Math Score\", fontsize=14)\n",
    "plt.xlabel(\"Race/Ethnicity\", fontsize=14)\n",
    "plt.tick_params(labelsize=13)\n",
    "plt.title('Race/Ethnicity & Math Score', fontsize=18)\n",
    "plt.show()"
   ]
  },
  {
   "cell_type": "markdown",
   "metadata": {},
   "source": [
    "### Average Overall Score by Race/Ethnicity"
   ]
  },
  {
   "cell_type": "code",
   "execution_count": null,
   "metadata": {
    "scrolled": true
   },
   "outputs": [],
   "source": [
    "examData.groupby(['Race'])['Average_Overall_Score'].mean()"
   ]
  },
  {
   "cell_type": "code",
   "execution_count": null,
   "metadata": {},
   "outputs": [],
   "source": [
    "stats.f_oneway(examData.loc[examData['Race']==\"group A\", 'Average_Overall_Score'], examData.loc[examData['Race']==\"group B\", 'Average_Overall_Score'],  examData.loc[examData['Race']==\"group C\", 'Average_Overall_Score'],  examData.loc[examData['Race']==\"group D\", 'Average_Overall_Score'],  examData.loc[examData['Race']==\"group E\", 'Average_Overall_Score'])"
   ]
  },
  {
   "cell_type": "code",
   "execution_count": null,
   "metadata": {
    "scrolled": false
   },
   "outputs": [],
   "source": [
    "sns.catplot(data=examData, x='Race', y='Average_Overall_Score', kind = 'bar', order=['group A', 'group B', 'group C', 'group D', 'group E'], palette=\"Set2\")\n",
    "plt.xticks(rotation=45)\n",
    "plt.ylabel(\"Average Overall Score\", fontsize=14)\n",
    "plt.xlabel(\"Race/Ethnicity\", fontsize=14)\n",
    "plt.tick_params(labelsize=13)\n",
    "plt.title('Race/Ethnicity & Average Overall Score', fontsize=18)\n",
    "plt.show()"
   ]
  },
  {
   "cell_type": "markdown",
   "metadata": {},
   "source": [
    "### Average Overall Score by Race/Ethnicity & Gender"
   ]
  },
  {
   "cell_type": "code",
   "execution_count": null,
   "metadata": {
    "scrolled": true
   },
   "outputs": [],
   "source": [
    "examData.groupby(['Race', 'Gender'])['Average_Overall_Score'].mean()"
   ]
  },
  {
   "cell_type": "code",
   "execution_count": null,
   "metadata": {
    "scrolled": false
   },
   "outputs": [],
   "source": [
    "plt.figure(figsize=(8,6))\n",
    "sns.barplot(data=examData, x='Race', y='Average_Overall_Score',hue= 'Gender', order=['group A', 'group B', 'group C', 'group D', 'group E'], palette=\"Set2\")\n",
    "plt.xticks(rotation=45)\n",
    "plt.ylabel(\"Average Overall Score\", fontsize=14)\n",
    "plt.xlabel(\"Race/Ethnicity\", fontsize=14)\n",
    "plt.tick_params(labelsize=13)\n",
    "plt.title('Average Overall Score by Race/Ethnicity & Gender', fontsize=18)\n",
    "plt.show()"
   ]
  },
  {
   "cell_type": "markdown",
   "metadata": {},
   "source": [
    "## Parental Level of Education "
   ]
  },
  {
   "cell_type": "code",
   "execution_count": null,
   "metadata": {
    "scrolled": true
   },
   "outputs": [],
   "source": [
    "# Average Overall Score by Parental Level of Education\n",
    "examData.groupby('Parental_Level_of_Education')[['Average_Overall_Score', 'Math_Score', 'Reading_Score', 'Writing_Score']].mean()"
   ]
  },
  {
   "cell_type": "code",
   "execution_count": null,
   "metadata": {},
   "outputs": [],
   "source": [
    "stats.f_oneway(examData.loc[examData['Parental_Level_of_Education']==\"associate's degree\", 'Average_Overall_Score'], examData.loc[examData['Parental_Level_of_Education']==\"bachelor's degree\", 'Average_Overall_Score'],  examData.loc[examData['Parental_Level_of_Education']==\"high school\", 'Average_Overall_Score'],  examData.loc[examData['Parental_Level_of_Education']==\"master's degree\", 'Average_Overall_Score'],examData.loc[examData['Parental_Level_of_Education']==\"some college\", 'Average_Overall_Score'], examData.loc[examData['Parental_Level_of_Education']==\"some high school\", 'Average_Overall_Score'])"
   ]
  },
  {
   "cell_type": "code",
   "execution_count": null,
   "metadata": {
    "scrolled": false
   },
   "outputs": [],
   "source": [
    "plt.figure(figsize=(12,7))\n",
    "sns.barplot(x = \"Parental_Level_of_Education\", y = \"Average_Overall_Score\", data = examData, palette=\"Set3\", order=['some high school', 'high school', 'some college',\"associate's degree\", \"bachelor's degree\", \"master's degree\"])\n",
    "plt.xticks(rotation=45)\n",
    "plt.ylabel(\"Average Overall Score\", fontsize=14)\n",
    "plt.xlabel(\"Parental Level of Education\", fontsize=14)\n",
    "plt.tick_params(labelsize=13)\n",
    "plt.title('Parental Level of Education & Average Overall Score', fontsize=18)\n",
    "plt.show()"
   ]
  },
  {
   "cell_type": "markdown",
   "metadata": {},
   "source": [
    "Seems like it is better to have some high school than having actually graduated."
   ]
  },
  {
   "cell_type": "markdown",
   "metadata": {},
   "source": [
    "### Parental Degree"
   ]
  },
  {
   "cell_type": "code",
   "execution_count": null,
   "metadata": {},
   "outputs": [],
   "source": [
    "examData['Parental_Degree'] = np.where((examData[\"Parental_Level_of_Education\"]=='some high school') | (examData[\"Parental_Level_of_Education\"]=='high school'), False, True)"
   ]
  },
  {
   "cell_type": "code",
   "execution_count": null,
   "metadata": {
    "scrolled": true
   },
   "outputs": [],
   "source": [
    "examData.head()"
   ]
  },
  {
   "cell_type": "code",
   "execution_count": null,
   "metadata": {
    "scrolled": true
   },
   "outputs": [],
   "source": [
    "examData['Parental_Degree'].value_counts()"
   ]
  },
  {
   "cell_type": "code",
   "execution_count": null,
   "metadata": {
    "scrolled": true
   },
   "outputs": [],
   "source": [
    "examData.groupby('Parental_Degree')[['Average_Overall_Score', 'Math_Score', 'Reading_Score', 'Writing_Score']].mean()"
   ]
  },
  {
   "cell_type": "code",
   "execution_count": null,
   "metadata": {},
   "outputs": [],
   "source": [
    "stats.ttest_ind(examData.loc[examData['Parental_Degree']==True, 'Average_Overall_Score'], examData.loc[examData['Parental_Degree']==False, 'Average_Overall_Score'] )"
   ]
  },
  {
   "cell_type": "code",
   "execution_count": null,
   "metadata": {},
   "outputs": [],
   "source": [
    "sns.catplot(data=examData, x='Parental_Degree', y = \"Average_Overall_Score\", kind = 'bar', palette=\"Set2\")\n",
    "plt.ylabel(\"Average Overall Score\", fontsize=14)\n",
    "plt.xlabel(\"Parental Degree\", fontsize=14)\n",
    "plt.tick_params(labelsize=13)\n",
    "plt.title('Status of Parental Degree & Average Overall Score', fontsize=18)\n",
    "plt.show()"
   ]
  },
  {
   "cell_type": "markdown",
   "metadata": {},
   "source": [
    "## Lunch"
   ]
  },
  {
   "cell_type": "code",
   "execution_count": null,
   "metadata": {},
   "outputs": [],
   "source": [
    "examData.groupby('Lunch')['Average_Overall_Score'].mean()"
   ]
  },
  {
   "cell_type": "code",
   "execution_count": null,
   "metadata": {
    "scrolled": false
   },
   "outputs": [],
   "source": [
    "plt.figure(figsize=(6,6))\n",
    "sns.barplot(x = \"Lunch\", y = \"Average_Overall_Score\", data = examData, palette=\"Set1\", order=['free/reduced', 'standard'])\n",
    "plt.xticks(rotation=45)\n",
    "plt.ylabel(\"Average Overall Score\", fontsize=14)\n",
    "plt.xlabel(\"Lunch\", fontsize=14)\n",
    "plt.tick_params(labelsize=13)\n",
    "plt.title('Lunch & Average Overall Score', fontsize=18)\n",
    "plt.show()"
   ]
  },
  {
   "cell_type": "code",
   "execution_count": null,
   "metadata": {
    "scrolled": true
   },
   "outputs": [],
   "source": [
    "examData.groupby(['Gender', 'Lunch']).count()"
   ]
  },
  {
   "cell_type": "code",
   "execution_count": null,
   "metadata": {
    "scrolled": true
   },
   "outputs": [],
   "source": [
    "examData['Gender'].value_counts()"
   ]
  },
  {
   "cell_type": "code",
   "execution_count": null,
   "metadata": {
    "scrolled": true
   },
   "outputs": [],
   "source": [
    "percentFreeLunchFemales = 189 / 518 * 100\n",
    "percentFreeLunchFemales"
   ]
  },
  {
   "cell_type": "code",
   "execution_count": null,
   "metadata": {},
   "outputs": [],
   "source": [
    "percentFreeLunchMales = 166 / 482 * 100\n",
    "percentFreeLunchMales"
   ]
  },
  {
   "cell_type": "markdown",
   "metadata": {},
   "source": [
    "A greater percentage of females are on a free/reduced lunch program."
   ]
  },
  {
   "cell_type": "markdown",
   "metadata": {},
   "source": [
    "## Test Preparation Course"
   ]
  },
  {
   "cell_type": "code",
   "execution_count": null,
   "metadata": {},
   "outputs": [],
   "source": [
    "examData['Test_Preparation_Course'].value_counts()"
   ]
  },
  {
   "cell_type": "code",
   "execution_count": null,
   "metadata": {},
   "outputs": [],
   "source": [
    "examData.groupby('Test_Preparation_Course')['Average_Overall_Score'].mean()"
   ]
  },
  {
   "cell_type": "code",
   "execution_count": null,
   "metadata": {},
   "outputs": [],
   "source": [
    "plt.figure(figsize=(6,6))\n",
    "sns.barplot(x = \"Test_Preparation_Course\", y = \"Average_Overall_Score\", data = examData, palette=\"Set1\")\n",
    "plt.xticks(rotation=45)\n",
    "plt.ylabel(\"Average Overall Score\", fontsize=14)\n",
    "plt.xlabel(\"Test Preparation Course\", fontsize=14)\n",
    "plt.tick_params(labelsize=13)\n",
    "plt.title('Test Preparation Course & Average Overall Score', fontsize=18)\n",
    "plt.show()"
   ]
  },
  {
   "cell_type": "code",
   "execution_count": null,
   "metadata": {
    "scrolled": true
   },
   "outputs": [],
   "source": [
    "examData.groupby(['Gender', 'Test_Preparation_Course']).count()"
   ]
  },
  {
   "cell_type": "code",
   "execution_count": null,
   "metadata": {},
   "outputs": [],
   "source": [
    "# relative to total females\n",
    "percentTestPrepFemales = 184 / 518 * 100\n",
    "percentTestPrepFemales"
   ]
  },
  {
   "cell_type": "code",
   "execution_count": null,
   "metadata": {},
   "outputs": [],
   "source": [
    "# relative to total males\n",
    "percentTestPrepMales = 174 / 482 * 100\n",
    "percentTestPrepMales"
   ]
  },
  {
   "cell_type": "markdown",
   "metadata": {},
   "source": [
    "A higher percentage of males completed a prep course than females. "
   ]
  },
  {
   "cell_type": "markdown",
   "metadata": {},
   "source": [
    "## High Economic Status"
   ]
  },
  {
   "cell_type": "markdown",
   "metadata": {},
   "source": [
    "Adding a column that indicates whether a student is from a higher socioeconomic status based soley on their Lunch and whether or not they completed a Test Preparation Course."
   ]
  },
  {
   "cell_type": "code",
   "execution_count": null,
   "metadata": {},
   "outputs": [],
   "source": [
    "examData['High_Economic_Status'] = np.where((examData[\"Lunch\"]=='standard') & (examData[\"Test_Preparation_Course\"]=='completed'), True, False)"
   ]
  },
  {
   "cell_type": "code",
   "execution_count": null,
   "metadata": {},
   "outputs": [],
   "source": [
    "examData.head()"
   ]
  },
  {
   "cell_type": "code",
   "execution_count": null,
   "metadata": {},
   "outputs": [],
   "source": [
    "examData['High_Economic_Status'].value_counts()"
   ]
  },
  {
   "cell_type": "code",
   "execution_count": null,
   "metadata": {
    "scrolled": true
   },
   "outputs": [],
   "source": [
    "examData.groupby('High_Economic_Status')['Average_Overall_Score'].mean()"
   ]
  },
  {
   "cell_type": "code",
   "execution_count": null,
   "metadata": {},
   "outputs": [],
   "source": [
    "stats.ttest_ind(examData.loc[examData['High_Economic_Status']==True, 'Average_Overall_Score'], examData.loc[examData['High_Economic_Status']==False, 'Average_Overall_Score'] )"
   ]
  },
  {
   "cell_type": "code",
   "execution_count": null,
   "metadata": {
    "scrolled": false
   },
   "outputs": [],
   "source": [
    "plt.figure(figsize=(6,6))\n",
    "sns.barplot(x = \"High_Economic_Status\", y = \"Average_Overall_Score\", data = examData, palette=\"Set3\")\n",
    "plt.xticks(rotation=45)\n",
    "plt.ylabel(\"Average Overall Score\", fontsize=14)\n",
    "plt.xlabel(\"High Economic Status\", fontsize=14)\n",
    "plt.tick_params(labelsize=13)\n",
    "plt.title('High Economic Status & Average Overall Score', fontsize=18)\n",
    "plt.show()"
   ]
  },
  {
   "cell_type": "code",
   "execution_count": null,
   "metadata": {
    "scrolled": true
   },
   "outputs": [],
   "source": [
    "examData.groupby(['Gender', 'High_Economic_Status']).count()"
   ]
  },
  {
   "cell_type": "code",
   "execution_count": null,
   "metadata": {
    "scrolled": false
   },
   "outputs": [],
   "source": [
    "examData['Gender'].value_counts()"
   ]
  },
  {
   "cell_type": "code",
   "execution_count": null,
   "metadata": {},
   "outputs": [],
   "source": [
    "percentHighStatusFemales = 114 / 518 * 100\n",
    "percentHighStatusFemales"
   ]
  },
  {
   "cell_type": "code",
   "execution_count": null,
   "metadata": {},
   "outputs": [],
   "source": [
    "percentHighStatusMales = 113 / 482 * 100\n",
    "percentHighStatusMales"
   ]
  },
  {
   "cell_type": "markdown",
   "metadata": {},
   "source": [
    "Could say you are more likely to be of higher status as a male, in reality it could be because males are more likely to take a prep course ect. "
   ]
  },
  {
   "cell_type": "markdown",
   "metadata": {},
   "source": [
    "## Score Correlation"
   ]
  },
  {
   "cell_type": "code",
   "execution_count": null,
   "metadata": {},
   "outputs": [],
   "source": [
    "examData['Prep_Course'] = np.where((examData[\"Test_Preparation_Course\"]=='none'), False, True)"
   ]
  },
  {
   "cell_type": "code",
   "execution_count": null,
   "metadata": {
    "scrolled": false
   },
   "outputs": [],
   "source": [
    "plt.figure(figsize=(13,10))\n",
    "sns.heatmap(examData.corr(), annot=True)"
   ]
  },
  {
   "cell_type": "markdown",
   "metadata": {},
   "source": [
    "Compared to the other scores, having taken a prep course is more correlated with an increased writing score.  "
   ]
  },
  {
   "cell_type": "markdown",
   "metadata": {},
   "source": [
    "### Math Score vs Reading Score"
   ]
  },
  {
   "cell_type": "code",
   "execution_count": null,
   "metadata": {},
   "outputs": [],
   "source": [
    "examData[['Math_Score', 'Reading_Score']].cov()"
   ]
  },
  {
   "cell_type": "code",
   "execution_count": null,
   "metadata": {},
   "outputs": [],
   "source": [
    "plt.figure(figsize=(10, 6))\n",
    "sns.scatterplot(x='Math_Score', y='Reading_Score', data=examData, hue=\"Gender\")\n",
    "plt.show()"
   ]
  },
  {
   "cell_type": "markdown",
   "metadata": {},
   "source": [
    "### Math Score vs Writing Score"
   ]
  },
  {
   "cell_type": "code",
   "execution_count": null,
   "metadata": {},
   "outputs": [],
   "source": [
    "examData[['Math_Score', 'Writing_Score']].cov()"
   ]
  },
  {
   "cell_type": "code",
   "execution_count": null,
   "metadata": {},
   "outputs": [],
   "source": [
    "plt.figure(figsize=(10, 6))\n",
    "sns.scatterplot(x='Math_Score', y='Writing_Score', data=examData, hue=\"Gender\")\n",
    "plt.show()"
   ]
  },
  {
   "cell_type": "markdown",
   "metadata": {},
   "source": [
    "### Reading Score vs Writing Score"
   ]
  },
  {
   "cell_type": "code",
   "execution_count": null,
   "metadata": {},
   "outputs": [],
   "source": [
    "examData[['Reading_Score', 'Writing_Score']].cov()"
   ]
  },
  {
   "cell_type": "code",
   "execution_count": null,
   "metadata": {
    "scrolled": false
   },
   "outputs": [],
   "source": [
    "plt.figure(figsize=(10, 6))\n",
    "sns.scatterplot(x='Reading_Score', y='Writing_Score', data=examData, hue=\"Gender\")\n",
    "plt.show()"
   ]
  },
  {
   "cell_type": "markdown",
   "metadata": {},
   "source": [
    "There is a **greater correlation between Reading Score and Writing Score** compared to the Math Score and either Reading or Writing Score."
   ]
  },
  {
   "cell_type": "markdown",
   "metadata": {},
   "source": [
    "## Linear Regression"
   ]
  },
  {
   "cell_type": "code",
   "execution_count": null,
   "metadata": {},
   "outputs": [],
   "source": [
    "import statsmodels.formula.api as smf "
   ]
  },
  {
   "cell_type": "code",
   "execution_count": null,
   "metadata": {
    "scrolled": true
   },
   "outputs": [],
   "source": [
    "examData.head()"
   ]
  },
  {
   "cell_type": "markdown",
   "metadata": {},
   "source": [
    "### Average Overall Score -Linear Regression by Gender, Race, Parental Level of Education, Prep Course and Lunch"
   ]
  },
  {
   "cell_type": "code",
   "execution_count": null,
   "metadata": {
    "scrolled": false
   },
   "outputs": [],
   "source": [
    "overallScore_reg = smf.ols(\"Average_Overall_Score ~ Gender + Race + C(Test_Preparation_Course, Treatment(reference='none')) + C(Parental_Level_of_Education, Treatment(reference='some high school')) + Lunch\", data=examData).fit()\n",
    "overallScore_reg.summary()"
   ]
  },
  {
   "cell_type": "markdown",
   "metadata": {},
   "source": [
    "### Predicting Average Overall Score for Female students with varying levels of Parental Education"
   ]
  },
  {
   "cell_type": "code",
   "execution_count": null,
   "metadata": {
    "scrolled": true
   },
   "outputs": [],
   "source": [
    "new_students = pd.DataFrame({'Gender': ['female', 'female', 'female', 'female', 'female', 'female'], 'Race': ['group C', 'group C', 'group C', 'group C','group C', 'group C'], \n",
    "                                  'Parental_Level_of_Education': [\"bachelor's degree\",\"associate's degree\", \"master's degree\", \"some college\", \"high school\", \"some high school\"],\n",
    "                                'Lunch' : ['standard', 'standard', 'standard', 'standard', 'standard', 'standard'],\n",
    "                                 'Test_Preparation_Course': ['completed', 'completed', 'completed', 'completed', 'completed', 'completed' ]\n",
    "                            })\n",
    "new_students"
   ]
  },
  {
   "cell_type": "code",
   "execution_count": null,
   "metadata": {
    "scrolled": false
   },
   "outputs": [],
   "source": [
    "new_students['Predicted_Average_Overall_Score'] = overallScore_reg.predict(new_students)\n",
    "new_students"
   ]
  },
  {
   "cell_type": "code",
   "execution_count": null,
   "metadata": {
    "scrolled": false
   },
   "outputs": [],
   "source": [
    "plt.figure(figsize=(12,7))\n",
    "sns.barplot(x = \"Parental_Level_of_Education\", y = \"Predicted_Average_Overall_Score\", data = new_students, palette=\"Set3\", order=['some high school', 'high school', 'some college',\"associate's degree\", \"bachelor's degree\", \"master's degree\"])\n",
    "plt.xticks(rotation=45)\n",
    "plt.ylabel(\"Predicted Average Overall Score\", fontsize=14)\n",
    "plt.xlabel(\"Parental Level of Education\", fontsize=14)\n",
    "plt.tick_params(labelsize=13)\n",
    "plt.title('Parental Level of Education & Predicted Average Overall Score in Female Students of the Same Race, Lunch and Prep Course Status', fontsize=18)\n",
    "plt.show()"
   ]
  },
  {
   "cell_type": "markdown",
   "metadata": {},
   "source": [
    "## Predicting Average Overall Score based on Race/Ethnicity"
   ]
  },
  {
   "cell_type": "code",
   "execution_count": null,
   "metadata": {},
   "outputs": [],
   "source": [
    "new_students2 = pd.DataFrame({'Gender': ['male', 'male', 'male', 'male', 'male'], 'Race': ['group A', 'group B', 'group C', 'group D','group E'], \n",
    "                                  'Parental_Level_of_Education': [\"bachelor's degree\",\"bachelor's degree\", \"bachelor's degree\", \"bachelor's degree\", \"bachelor's degree\"],\n",
    "                                'Lunch' : ['standard', 'standard', 'standard', 'standard', 'standard'],\n",
    "                                 'Test_Preparation_Course': ['completed', 'completed', 'completed', 'completed', 'completed']\n",
    "                            })\n",
    "new_students2"
   ]
  },
  {
   "cell_type": "code",
   "execution_count": null,
   "metadata": {
    "scrolled": true
   },
   "outputs": [],
   "source": [
    "new_students2['Predicted_Average_Overall_Score'] = overallScore_reg.predict(new_students2)\n",
    "new_students2"
   ]
  },
  {
   "cell_type": "code",
   "execution_count": null,
   "metadata": {
    "scrolled": false
   },
   "outputs": [],
   "source": [
    "sns.catplot(data=new_students2, x='Race', y='Predicted_Average_Overall_Score', kind = 'bar', order=['group A', 'group B', 'group C', 'group D', 'group E'], palette=\"Set2\")\n",
    "plt.xticks(rotation=45)\n",
    "plt.ylabel(\"Predicted Average Overall Score\", fontsize=14)\n",
    "plt.xlabel(\"Race/Ethnicity\", fontsize=14)\n",
    "plt.tick_params(labelsize=13)\n",
    "plt.title('Race/Ethnicity & Predicted Average Overall Score of Male Students', fontsize=18)\n",
    "plt.show()"
   ]
  },
  {
   "cell_type": "markdown",
   "metadata": {},
   "source": [
    "### Math Score regression "
   ]
  },
  {
   "cell_type": "code",
   "execution_count": null,
   "metadata": {},
   "outputs": [],
   "source": [
    "mathScore_reg = smf.ols(\"Math_Score ~ Gender + Lunch + Race + C(Test_Preparation_Course, Treatment(reference='none')) + C(Parental_Level_of_Education, Treatment(reference='some high school'))\", data=examData).fit()\n",
    "mathScore_reg.summary()"
   ]
  },
  {
   "cell_type": "code",
   "execution_count": null,
   "metadata": {
    "scrolled": false
   },
   "outputs": [],
   "source": [
    "mathScore_reg2 = smf.ols(\"Math_Score ~ Reading_Score + Writing_Score\", data=examData).fit()\n",
    "mathScore_reg2.summary()"
   ]
  },
  {
   "cell_type": "markdown",
   "metadata": {},
   "source": [
    "## Reading Score regression"
   ]
  },
  {
   "cell_type": "code",
   "execution_count": null,
   "metadata": {},
   "outputs": [],
   "source": [
    "readingScore_reg = smf.ols(\"Reading_Score ~ Gender + Lunch + Race + C(Test_Preparation_Course, Treatment(reference='none')) + C(Parental_Level_of_Education, Treatment(reference='some high school')) -1\", data=examData).fit()\n",
    "readingScore_reg.summary()"
   ]
  },
  {
   "cell_type": "code",
   "execution_count": null,
   "metadata": {
    "scrolled": true
   },
   "outputs": [],
   "source": [
    "readingScore_reg2 = smf.ols(\"Reading_Score ~ Math_Score + Writing_Score\", data=examData).fit()\n",
    "readingScore_reg2.summary()"
   ]
  },
  {
   "cell_type": "markdown",
   "metadata": {},
   "source": [
    "## Writing Score regression"
   ]
  },
  {
   "cell_type": "code",
   "execution_count": null,
   "metadata": {},
   "outputs": [],
   "source": [
    "writingScore_reg = smf.ols(\"Writing_Score ~ Gender + Lunch + Race + C(Test_Preparation_Course, Treatment(reference='none')) + C(Parental_Level_of_Education, Treatment(reference='some high school'))\", data=examData).fit()\n",
    "writingScore_reg.summary()"
   ]
  },
  {
   "cell_type": "code",
   "execution_count": null,
   "metadata": {},
   "outputs": [],
   "source": [
    "writingScore_reg2 = smf.ols(\"Writing_Score ~ Reading_Score + Math_Score\", data=examData).fit()\n",
    "writingScore_reg2.summary()"
   ]
  }
 ],
 "metadata": {
  "kernelspec": {
   "display_name": "Python 3",
   "language": "python",
   "name": "python3"
  },
  "language_info": {
   "codemirror_mode": {
    "name": "ipython",
    "version": 3
   },
   "file_extension": ".py",
   "mimetype": "text/x-python",
   "name": "python",
   "nbconvert_exporter": "python",
   "pygments_lexer": "ipython3",
   "version": "3.7.6"
  }
 },
 "nbformat": 4,
 "nbformat_minor": 4
}
